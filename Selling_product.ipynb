{
  "nbformat": 4,
  "nbformat_minor": 0,
  "metadata": {
    "colab": {
      "name": "Selling product.ipynb",
      "provenance": [],
      "collapsed_sections": []
    },
    "kernelspec": {
      "name": "python3",
      "display_name": "Python 3"
    },
    "language_info": {
      "name": "python"
    }
  },
  "cells": [
    {
      "cell_type": "markdown",
      "metadata": {
        "id": "B4xIck5kkxbG"
      },
      "source": [
        "# **GENERATION OF RECORDS**"
      ]
    },
    {
      "cell_type": "code",
      "metadata": {
        "id": "kFs0QcVutFAK"
      },
      "source": [
        "records={\"1001\": {\"Name\": \"Shirts\",        \"price\": 2000,  \"quantity\": 10,  \"Manufacturing date\": \"5Sept 2021\", \"Availability\": \"Yes\"},\n",
        "         \"1002\": {\"Name\": \"Toy car\",       \"price\": 4500,  \"quantity\": 100, \"Manufacturing date\": \"5Sept 2021\", \"Availability\": \"Yes\"},\n",
        "         \"1003\": {\"Name\": \"Registers\",     \"price\": 100,   \"quantity\": 50,  \"Manufacturing date\": \"5Sept 2021\", \"Availability\": \"Yes\"},\n",
        "         \"1004\": {\"Name\": \"Bat\",           \"price\": 4540,  \"quantity\": 48,  \"Manufacturing date\": \"5Sept 2021\", \"Availability\": \"Yes\"},\n",
        "         \"1005\": {\"Name\": \"Tooth brush\",   \"price\": 20,    \"quantity\": 50,  \"Manufacturing date\": \"4 Sept 2021\", \"Availability\": \"Yes\"},\n",
        "         \"1006\": {\"Name\": \"Chess board\",   \"price\": 200,   \"quantity\": 60,  \"Manufacturing date\": \"4 Sept 2021\", \"Availability\": \"Yes\"},\n",
        "         \"1007\": {\"Name\": \"Carrom board\",  \"price\": 250,   \"quantity\": 80,  \"Manufacturing date\": \"4 Sept 2021\", \"Availability\": \"Yes\"},\n",
        "         \"1008\": {\"Name\": \"Bottles\",       \"price\": 200,   \"quantity\": 20,  \"Manufacturing date\": \"4 Sept 2021\", \"Availability\": \"Yes\"},\n",
        "         \"1009\": {\"Name\": \"Cup set\",       \"price\": 500,   \"quantity\": 80,  \"Manufacturing date\": \"4 Sept 2021\", \"Availability\": \"Yes\"},\n",
        "         \"1010\": {\"Name\": \"Cushion covers\",\"price\": 200,   \"quantity\": 60,  \"Manufacturing date\": \"4 Sept 2021\", \"Availability\": \"Yes\"},\n",
        "         \"1011\": {\"Name\": \"Bed sheet\",     \"price\": 200,   \"quantity\": 880,  \"Manufacturing date\":\"5Sept 2021\", \"Availability\": \"Yes\"},\n",
        "         \"1012\": {\"Name\": \"Curtains\",      \"price\": 500,   \"quantity\": 18,  \"Manufacturing date\": \"5 Sept 2021\", \"Availability\": \"Yes\"},\n",
        "         \"1013\": {\"Name\": \"Pen\",           \"price\": 20,    \"quantity\": 86,  \"Manufacturing date\": \"5 Sept 2021\", \"Availability\": \"Yes\"},\n",
        "         \"1014\": {\"Name\": \"Pencil box\",    \"price\": 20,    \"quantity\": 51,  \"Manufacturing date\": \"5 Sept 2021\", \"Availability\": \"Yes\"},\n",
        "         \"1015\": {\"Name\": \"Chair\",         \"price\": 2000,  \"quantity\": 51,  \"Manufacturing date\": \"5 Sept 2021\", \"Availability\": \"Yes\"},\n",
        "         \"1016\": {\"Name\": \"Lehnga\",        \"price\": 10000, \"quantity\": 200,  \"Manufacturing date\":\"6 Sept 2021\", \"Availability\": \"Yes\"},\n",
        "         \"1017\": {\"Name\": \"Beauty products\",\"price\": 200,  \"quantity\": 500,  \"Manufacturing date\":\"6 Sept 2021\", \"Availability\": \"Yes\"},\n",
        "         \"1018\": {\"Name\": \"Face wash\",     \"price\": 100,   \"quantity\": 88,  \"Manufacturing date\": \"6 Sept 2021\", \"Availability\": \"Yes\"},\n",
        "         \"1019\": {\"Name\": \"Skin care\",     \"price\": 200,   \"quantity\": 80,  \"Manufacturing date\": \"6 Sept 2021\", \"Availability\": \"Yes\"},\n",
        "         \"1020\": {\"Name\": \"Hair oil\",      \"price\": 150,   \"quantity\": 90,  \"Manufacturing date\": \"5 Sept 2021\", \"Availability\": \"Yes\"},\n",
        "         \"1021\": {\"Name\": \"Tooth paste\",   \"price\": 20,    \"quantity\": 70,  \"Manufacturing date\": \"5 Sept 2021\", \"Availability\": \"Yes\"},\n",
        "         \"1022\": {\"Name\": \"Cheese\",        \"price\": 20,    \"quantity\": 80,  \"Manufacturing date\": \"5 Sept 2021\", \"Availability\": \"Yes\"},\n",
        "         \"1023\": {\"Name\": \"Butter\",        \"price\": 20,    \"quantity\": 110,  \"Manufacturing date\": \"5Sept 2021\", \"Availability\": \"Yes\"},\n",
        "         \"1024\": {\"Name\": \"Watches\",       \"price\": 200,   \"quantity\": 100,  \"Manufacturing date\": \"5Sept 2021\", \"Availability\": \"Yes\"},\n",
        "         \"1025\": {\"Name\": \"Purses\",        \"price\": 200,   \"quantity\": 105,  \"Manufacturing date\": \"5Sept 2021\", \"Availability\": \"Yes\"},\n",
        "         \"1026\": {\"Name\": \"pencil\",        \"price\": 20,    \"quantity\": 10,  \"Manufacturing date\": \"6 Sept 2021\", \"Availability\": \"Yes\"},\n",
        "         \"1027\": {\"Name\": \"Honey\",         \"price\": 200,   \"quantity\": 100,  \"Manufacturing date\": \"6 Sept 2021\", \"Availability\": \"Yes\"},\n",
        "         \"1028\": {\"Name\": \"Vinegar\",       \"price\": 200,   \"quantity\": 50,  \"Manufacturing date\": \"6 Sept 2021\", \"Availability\": \"Yes\"},\n",
        "         \"1029\": {\"Name\": \"Soya sauss\",    \"price\": 200,   \"quantity\": 90,  \"Manufacturing date\": \"5 Sept 2021\", \"Availability\": \"Yes\"},\n",
        "         \"1030\": {\"Name\": \"ketchup\",       \"price\": 150,   \"quantity\": 120,  \"Manufacturing date\": \"5 Sept 2021\", \"Availability\": \"Yes\"},\n",
        "         \"1031\": {\"Name\": \"Jwelery\",       \"price\": 2000,  \"quantity\": 115,  \"Manufacturing date\": \"5 Sept 2021\", \"Availability\": \"Yes\"},\n",
        "         \"1032\": {\"Name\": \"Sweaters\",      \"price\": 2050,  \"quantity\": 51,  \"Manufacturing date\": \"5Sept 2021\", \"Availability\": \"Yes\"},\n",
        "         \"1033\": {\"Name\": \"Jeans\",         \"price\": 2000,  \"quantity\": 51,  \"Manufacturing date\": \"5Sept 2021\", \"Availability\": \"Yes\"},\n",
        "         \"1034\": {\"Name\": \"Formal wear\",   \"price\": 1500,  \"quantity\": 96,  \"Manufacturing date\": \"5Sept 2021\", \"Availability\": \"Yes\"},\n",
        "         \"1035\": {\"Name\": \"Art works\",     \"price\": 2000,  \"quantity\": 100,  \"Manufacturing date\": \"5Sept 2021\", \"Availability\": \"Yes\"},\n",
        "         \"1036\": {\"Name\": \"Sanitizers\",    \"price\": 200,   \"quantity\": 105,  \"Manufacturing date\": \"5Sept 2021\", \"Availability\": \"Yes\"},\n",
        "         \"1037\": {\"Name\": \"Gloves\",        \"price\": 50,    \"quantity\": 106,  \"Manufacturing date\": \"5Sept 2021\", \"Availability\": \"Yes\"},\n",
        "         \"1038\": {\"Name\": \"Disinfector\",   \"price\": 210,   \"quantity\": 1516,  \"Manufacturing date\": \"5Sept 2021\", \"Availability\": \"Yes\"},\n",
        "         \"1039\": {\"Name\": \"Lunch boxes\",   \"price\": 250,   \"quantity\": 105,  \"Manufacturing date\": \"5Sept 2021\", \"Availability\": \"Yes\"},\n",
        "         \"1040\": {\"Name\": \"Trousers\",      \"price\": 200,   \"quantity\": 1055,  \"Manufacturing date\": \"5Sept 2021\", \"Availability\": \"Yes\"},\n",
        "        }"
      ],
      "execution_count": 7,
      "outputs": []
    },
    {
      "cell_type": "code",
      "metadata": {
        "colab": {
          "base_uri": "https://localhost:8080/"
        },
        "id": "o-5hADGzPSRu",
        "outputId": "cfe22c18-05c4-4332-f1fa-443ac66d7d5e"
      },
      "source": [
        "type(records)"
      ],
      "execution_count": 8,
      "outputs": [
        {
          "output_type": "execute_result",
          "data": {
            "text/plain": [
              "dict"
            ]
          },
          "metadata": {},
          "execution_count": 8
        }
      ]
    },
    {
      "cell_type": "code",
      "metadata": {
        "id": "LM7AzVRDvCNn"
      },
      "source": [
        "import json\n",
        "js = json.dumps(records)"
      ],
      "execution_count": 9,
      "outputs": []
    },
    {
      "cell_type": "code",
      "metadata": {
        "colab": {
          "base_uri": "https://localhost:8080/"
        },
        "id": "sNsRHcxmPfvX",
        "outputId": "0471c26f-ccb7-48f3-f14b-e2f866dc3efd"
      },
      "source": [
        "type(js)"
      ],
      "execution_count": 10,
      "outputs": [
        {
          "output_type": "execute_result",
          "data": {
            "text/plain": [
              "str"
            ]
          },
          "metadata": {},
          "execution_count": 10
        }
      ]
    },
    {
      "cell_type": "markdown",
      "metadata": {
        "id": "X_EWn9I2AFhK"
      },
      "source": [
        "**READING RECORDS**"
      ]
    },
    {
      "cell_type": "code",
      "metadata": {
        "id": "qCazSpOx_HeQ"
      },
      "source": [
        "file = open(\"records.json\",\"r\")\n",
        "txt = file.read()\n",
        "file.close()\n",
        "\n",
        "records = json.loads(txt)"
      ],
      "execution_count": 11,
      "outputs": []
    },
    {
      "cell_type": "code",
      "metadata": {
        "colab": {
          "base_uri": "https://localhost:8080/"
        },
        "id": "zM8RVbHegvfG",
        "outputId": "ad258b17-952d-4565-d8f4-fd10749aa44b"
      },
      "source": [
        "print(\"*******************MENU*******************\")\n",
        "print(\"product_id    product_name\",end=\"\\n\\n\")\n",
        "for i in records.keys():\n",
        "    print(i,\"        \",records[i][\"Name\"])"
      ],
      "execution_count": 12,
      "outputs": [
        {
          "output_type": "stream",
          "name": "stdout",
          "text": [
            "*******************MENU*******************\n",
            "product_id    product_name\n",
            "\n",
            "1001          Shirts\n",
            "1002          Toy car\n",
            "1003          Registers\n",
            "1004          Bat\n",
            "1005          Tooth brush\n",
            "1006          Chess board\n",
            "1007          Carrom board\n",
            "1008          Bottles\n",
            "1009          Cup set\n",
            "1010          Cushion covers\n",
            "1011          Bed sheet\n",
            "1012          Curtains\n",
            "1013          Pen\n",
            "1014          Pencil box\n",
            "1015          Chair\n",
            "1016          Lehnga\n",
            "1017          Beauty products\n",
            "1018          Face wash\n",
            "1019          Skin care\n",
            "1020          Hair oil\n",
            "1021          Tooth paste\n",
            "1022          Cheese\n",
            "1023          Butter\n",
            "1024          Watches\n",
            "1025          Purses\n",
            "1026          pencil\n",
            "1027          Honey\n",
            "1028          Vinegar\n",
            "1029          Soya sauss\n",
            "1030          ketchup\n",
            "1031          Jwelery\n",
            "1032          Sweaters\n",
            "1033          Jeans\n",
            "1034          Formal wear\n",
            "1035          Art works\n",
            "1036          Sanitizers\n",
            "1037          Gloves\n",
            "1038          Disinfector\n",
            "1039          Lunch boxes\n",
            "1040          Trousers\n",
            "1041          Name\n"
          ]
        }
      ]
    },
    {
      "cell_type": "markdown",
      "metadata": {
        "id": "mi-tBFXgCJmi"
      },
      "source": [
        "# **PURCHASING THE PRODUCT** "
      ]
    },
    {
      "cell_type": "markdown",
      "metadata": {
        "id": "a3hpm99sB9Op"
      },
      "source": [
        "**GETTING INPUT FROM USERS**"
      ]
    },
    {
      "cell_type": "code",
      "metadata": {
        "colab": {
          "base_uri": "https://localhost:8080/"
        },
        "id": "3YjjM01p-iFK",
        "outputId": "768450e7-2430-46fe-8f72-f1a10e776967"
      },
      "source": [
        "print(\"         Welcome to the one stop shop for all your daily needs        \")\n",
        "\n",
        "ui_prod = str(input(\"Enter the product Id: \"))\n",
        "ui_quan = int(input(\"Enter the quantity of the Product: \"))\n",
        "name = str(input(\"Enter your name: \"))\n",
        "phone_no = int(input(\"Enter your registered phone number: \"))\n",
        "\n",
        "\n",
        "# CHECKING AVAILABILITY AND GENERATING BILLS:\n",
        "\n",
        "if ui_prod in records.keys() and ui_quan <= records[ui_prod][\"quantity\"] :\n",
        "  print(\"Generating your bill\")\n",
        "  print(\"___________________________________________________\")\n",
        "  print(\"******************Bill Named For*******************\")\n",
        "  print(\"                Customer name: \" , name)\n",
        "  print(\"                Registered no:\" , phone_no)\n",
        "  print(\"                Product ID:\" , ui_prod)\n",
        "  print(\"                Product purchased:\" , records[ui_prod][\"Name\"])\n",
        "  print(\"                Quantity Purchased:\" , ui_quan)\n",
        "  print(\"                Price:\" , records[ui_prod][\"price\"])\n",
        "  print(\"_____________________________________________________\")\n",
        "  \n",
        "  print(\"      Billing amount:\" , ui_quan*records[ui_prod][\"price\"])\n",
        "  from datetime import date\n",
        "  today = date.today()\n",
        "  print(\"Today's date:\", today)\n",
        "\n",
        "  print(\"THANK YOU FOR VISITING OUR STORE , HAVE A GOOD DAY Mr/Mrs.\", name)\n",
        "\n",
        "  records[ui_prod][\"quantity\"] = records[ui_prod][\"quantity\"] - ui_quan\n",
        "\n",
        "else:\n",
        "  print(\"***********************************************************\")\n",
        "  print(\"Invalid product id or quantity entered , Please check again\")\n",
        "  print(\"***********************************************************\")\n",
        "\n"
      ],
      "execution_count": 68,
      "outputs": [
        {
          "output_type": "stream",
          "name": "stdout",
          "text": [
            "         Welcome to the one stop shop for all your daily needs        \n",
            "Enter the product Id: 1024\n",
            "Enter the quantity of the Product: 3\n",
            "Enter your name: Nancy\n",
            "Enter your registered phone number: 8897846546\n",
            "Generating your bill\n",
            "___________________________________________________\n",
            "******************Bill Named For*******************\n",
            "                Customer name:  Nancy\n",
            "                Registered no: 8897846546\n",
            "                Product ID: 1024\n",
            "                Product purchased: Watches\n",
            "                Quantity Purchased: 3\n",
            "                Price: 200\n",
            "_____________________________________________________\n",
            "      Billing amount: 600\n",
            "Today's date: 2021-09-06\n",
            "THANK YOU FOR VISITING OUR STORE , HAVE A GOOD DAY Mr/Mrs. Nancy\n"
          ]
        }
      ]
    },
    {
      "cell_type": "markdown",
      "metadata": {
        "id": "72yEIZcPHXKM"
      },
      "source": [
        "# **UPDATE INVENTORY AFTER PURCHASE**"
      ]
    },
    {
      "cell_type": "code",
      "metadata": {
        "id": "sM5Dw16rwWfZ"
      },
      "source": [
        "js = json.dumps(records)\n",
        "\n",
        "file = open(\"records.json\",\"w\")\n",
        "file.write(js)\n",
        "file.close()"
      ],
      "execution_count": 69,
      "outputs": []
    },
    {
      "cell_type": "markdown",
      "metadata": {
        "id": "5d32D1hJv897"
      },
      "source": [
        "**SALES JSON**"
      ]
    },
    {
      "cell_type": "code",
      "metadata": {
        "id": "2wEYrJTVsEHp",
        "colab": {
          "base_uri": "https://localhost:8080/"
        },
        "outputId": "7c5939c6-7029-4542-fbd9-bbe38a77661e"
      },
      "source": [
        "{\"Product\":  ui_prod , \"Quantity\" : ui_quan , \"Amount\" : records[ui_prod][\"price\"]*ui_quan}"
      ],
      "execution_count": 70,
      "outputs": [
        {
          "output_type": "execute_result",
          "data": {
            "text/plain": [
              "{'Amount': 600, 'Product': '1024', 'Quantity': 3}"
            ]
          },
          "metadata": {},
          "execution_count": 70
        }
      ]
    },
    {
      "cell_type": "code",
      "metadata": {
        "id": "N0JZ7kwo-bis"
      },
      "source": [
        "sales[len(sales)+1] = {\"Product\":  ui_prod , \"Quantity\" : ui_quan , \"Amount\" : records[ui_prod][\"price\"]*ui_quan}"
      ],
      "execution_count": 71,
      "outputs": []
    },
    {
      "cell_type": "code",
      "metadata": {
        "id": "-OHwwYFPnKTQ"
      },
      "source": [
        "sale = json.dumps(sales)"
      ],
      "execution_count": 72,
      "outputs": []
    },
    {
      "cell_type": "code",
      "metadata": {
        "id": "hHczM0-wxKHZ"
      },
      "source": [
        "file = open(\"sales.json\",\"w\")\n",
        "txt = file.write(sale)\n",
        "file.close()"
      ],
      "execution_count": 73,
      "outputs": []
    },
    {
      "cell_type": "code",
      "metadata": {
        "id": "TlLAWdjI-oep",
        "colab": {
          "base_uri": "https://localhost:8080/"
        },
        "outputId": "d13e797a-ead5-4a1e-c4eb-518011164f30"
      },
      "source": [
        "sales"
      ],
      "execution_count": 74,
      "outputs": [
        {
          "output_type": "execute_result",
          "data": {
            "text/plain": [
              "{1: {'Amount': 22500, 'Product': '1002', 'Quantity': 5},\n",
              " 2: {'Amount': 22500, 'Product': '1002', 'Quantity': 5},\n",
              " 3: {'Amount': 22500, 'Product': '1002', 'Quantity': 5},\n",
              " 4: {'Amount': 9000, 'Product': '1002', 'Quantity': 2},\n",
              " 5: {'Amount': 40, 'Product': '1005', 'Quantity': 2},\n",
              " 6: {'Amount': 600, 'Product': '1020', 'Quantity': 4},\n",
              " 7: {'Amount': 100, 'Product': '1022', 'Quantity': 5},\n",
              " 8: {'Amount': 250, 'Product': '1037', 'Quantity': 5},\n",
              " 9: {'Amount': 10000, 'Product': '1033', 'Quantity': 5},\n",
              " 10: {'Amount': 600, 'Product': '1024', 'Quantity': 3}}"
            ]
          },
          "metadata": {},
          "execution_count": 74
        }
      ]
    },
    {
      "cell_type": "code",
      "metadata": {
        "id": "A7DkhOAImGa2"
      },
      "source": [
        ""
      ],
      "execution_count": null,
      "outputs": []
    }
  ]
}