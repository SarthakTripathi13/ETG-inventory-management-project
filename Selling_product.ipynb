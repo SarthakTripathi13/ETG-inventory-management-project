{
  "nbformat": 4,
  "nbformat_minor": 0,
  "metadata": {
    "colab": {
      "name": "Selling product.ipynb",
      "provenance": [],
      "collapsed_sections": []
    },
    "kernelspec": {
      "name": "python3",
      "display_name": "Python 3"
    },
    "language_info": {
      "name": "python"
    }
  },
  "cells": [
    {
      "cell_type": "markdown",
      "metadata": {
        "id": "B4xIck5kkxbG"
      },
      "source": [
        "# **GENERATION OF RECORDS**"
      ]
    },
    {
      "cell_type": "code",
      "metadata": {
        "id": "kFs0QcVutFAK"
      },
      "source": [
        "records={\"1001\": {\"Name\": \"Shirts\",        \"price\": 2000,  \"quantity\": 10,  \"Manufacturing date\": \"5Sept 2021\", \"Availability\": \"Yes\"},\n",
        "         \"1002\": {\"Name\": \"Toy car\",       \"price\": 4500,  \"quantity\": 100, \"Manufacturing date\": \"5Sept 2021\", \"Availability\": \"Yes\"},\n",
        "         \"1003\": {\"Name\": \"Registers\",     \"price\": 100,   \"quantity\": 50,  \"Manufacturing date\": \"5Sept 2021\", \"Availability\": \"Yes\"},\n",
        "         \"1004\": {\"Name\": \"Bat\",           \"price\": 4540,  \"quantity\": 48,  \"Manufacturing date\": \"5Sept 2021\", \"Availability\": \"Yes\"},\n",
        "         \"1005\": {\"Name\": \"Tooth brush\",   \"price\": 20,    \"quantity\": 50,  \"Manufacturing date\": \"4 Sept 2021\", \"Availability\": \"Yes\"},\n",
        "         \"1006\": {\"Name\": \"Chess board\",   \"price\": 200,   \"quantity\": 60,  \"Manufacturing date\": \"4 Sept 2021\", \"Availability\": \"Yes\"},\n",
        "         \"1007\": {\"Name\": \"Carrom board\",  \"price\": 250,   \"quantity\": 80,  \"Manufacturing date\": \"4 Sept 2021\", \"Availability\": \"Yes\"},\n",
        "         \"1008\": {\"Name\": \"Bottles\",       \"price\": 200,   \"quantity\": 20,  \"Manufacturing date\": \"4 Sept 2021\", \"Availability\": \"Yes\"},\n",
        "         \"1009\": {\"Name\": \"Cup set\",       \"price\": 500,   \"quantity\": 80,  \"Manufacturing date\": \"4 Sept 2021\", \"Availability\": \"Yes\"},\n",
        "         \"1010\": {\"Name\": \"Cushion covers\",\"price\": 200,   \"quantity\": 60,  \"Manufacturing date\": \"4 Sept 2021\", \"Availability\": \"Yes\"},\n",
        "         \"1011\": {\"Name\": \"Bed sheet\",     \"price\": 200,   \"quantity\": 880,  \"Manufacturing date\":\"5Sept 2021\", \"Availability\": \"Yes\"},\n",
        "         \"1012\": {\"Name\": \"Curtains\",      \"price\": 500,   \"quantity\": 18,  \"Manufacturing date\": \"5 Sept 2021\", \"Availability\": \"Yes\"},\n",
        "         \"1013\": {\"Name\": \"Pen\",           \"price\": 20,    \"quantity\": 86,  \"Manufacturing date\": \"5 Sept 2021\", \"Availability\": \"Yes\"},\n",
        "         \"1014\": {\"Name\": \"Pencil box\",    \"price\": 20,    \"quantity\": 51,  \"Manufacturing date\": \"5 Sept 2021\", \"Availability\": \"Yes\"},\n",
        "         \"1015\": {\"Name\": \"Chair\",         \"price\": 2000,  \"quantity\": 51,  \"Manufacturing date\": \"5 Sept 2021\", \"Availability\": \"Yes\"},\n",
        "         \"1016\": {\"Name\": \"Lehnga\",        \"price\": 10000, \"quantity\": 200,  \"Manufacturing date\":\"6 Sept 2021\", \"Availability\": \"Yes\"},\n",
        "         \"1017\": {\"Name\": \"Beauty products\",\"price\": 200,  \"quantity\": 500,  \"Manufacturing date\":\"6 Sept 2021\", \"Availability\": \"Yes\"},\n",
        "         \"1018\": {\"Name\": \"Face wash\",     \"price\": 100,   \"quantity\": 88,  \"Manufacturing date\": \"6 Sept 2021\", \"Availability\": \"Yes\"},\n",
        "         \"1019\": {\"Name\": \"Skin care\",     \"price\": 200,   \"quantity\": 80,  \"Manufacturing date\": \"6 Sept 2021\", \"Availability\": \"Yes\"},\n",
        "         \"1020\": {\"Name\": \"Hair oil\",      \"price\": 150,   \"quantity\": 90,  \"Manufacturing date\": \"5 Sept 2021\", \"Availability\": \"Yes\"},\n",
        "         \"1021\": {\"Name\": \"Tooth paste\",   \"price\": 20,    \"quantity\": 70,  \"Manufacturing date\": \"5 Sept 2021\", \"Availability\": \"Yes\"},\n",
        "         \"1022\": {\"Name\": \"Cheese\",        \"price\": 20,    \"quantity\": 80,  \"Manufacturing date\": \"5 Sept 2021\", \"Availability\": \"Yes\"},\n",
        "         \"1023\": {\"Name\": \"Butter\",        \"price\": 20,    \"quantity\": 110,  \"Manufacturing date\": \"5Sept 2021\", \"Availability\": \"Yes\"},\n",
        "         \"1024\": {\"Name\": \"Watches\",       \"price\": 200,   \"quantity\": 100,  \"Manufacturing date\": \"5Sept 2021\", \"Availability\": \"Yes\"},\n",
        "         \"1025\": {\"Name\": \"Purses\",        \"price\": 200,   \"quantity\": 105,  \"Manufacturing date\": \"5Sept 2021\", \"Availability\": \"Yes\"},\n",
        "         \"1026\": {\"Name\": \"pencil\",        \"price\": 20,    \"quantity\": 10,  \"Manufacturing date\": \"6 Sept 2021\", \"Availability\": \"Yes\"},\n",
        "         \"1027\": {\"Name\": \"Honey\",         \"price\": 200,   \"quantity\": 100,  \"Manufacturing date\": \"6 Sept 2021\", \"Availability\": \"Yes\"},\n",
        "         \"1028\": {\"Name\": \"Vinegar\",       \"price\": 200,   \"quantity\": 50,  \"Manufacturing date\": \"6 Sept 2021\", \"Availability\": \"Yes\"},\n",
        "         \"1029\": {\"Name\": \"Soya sauss\",    \"price\": 200,   \"quantity\": 90,  \"Manufacturing date\": \"5 Sept 2021\", \"Availability\": \"Yes\"},\n",
        "         \"1030\": {\"Name\": \"ketchup\",       \"price\": 150,   \"quantity\": 120,  \"Manufacturing date\": \"5 Sept 2021\", \"Availability\": \"Yes\"},\n",
        "         \"1031\": {\"Name\": \"Jwelery\",       \"price\": 2000,  \"quantity\": 115,  \"Manufacturing date\": \"5 Sept 2021\", \"Availability\": \"Yes\"},\n",
        "         \"1032\": {\"Name\": \"Sweaters\",      \"price\": 2050,  \"quantity\": 51,  \"Manufacturing date\": \"5Sept 2021\", \"Availability\": \"Yes\"},\n",
        "         \"1033\": {\"Name\": \"Jeans\",         \"price\": 2000,  \"quantity\": 51,  \"Manufacturing date\": \"5Sept 2021\", \"Availability\": \"Yes\"},\n",
        "         \"1034\": {\"Name\": \"Formal wear\",   \"price\": 1500,  \"quantity\": 96,  \"Manufacturing date\": \"5Sept 2021\", \"Availability\": \"Yes\"},\n",
        "         \"1035\": {\"Name\": \"Art works\",     \"price\": 2000,  \"quantity\": 100,  \"Manufacturing date\": \"5Sept 2021\", \"Availability\": \"Yes\"},\n",
        "         \"1036\": {\"Name\": \"Sanitizers\",    \"price\": 200,   \"quantity\": 105,  \"Manufacturing date\": \"5Sept 2021\", \"Availability\": \"Yes\"},\n",
        "         \"1037\": {\"Name\": \"Gloves\",        \"price\": 50,    \"quantity\": 106,  \"Manufacturing date\": \"5Sept 2021\", \"Availability\": \"Yes\"},\n",
        "         \"1038\": {\"Name\": \"Disinfector\",   \"price\": 210,   \"quantity\": 1516,  \"Manufacturing date\": \"5Sept 2021\", \"Availability\": \"Yes\"},\n",
        "         \"1039\": {\"Name\": \"Lunch boxes\",   \"price\": 250,   \"quantity\": 105,  \"Manufacturing date\": \"5Sept 2021\", \"Availability\": \"Yes\"},\n",
        "         \"1040\": {\"Name\": \"Trousers\",      \"price\": 200,   \"quantity\": 1055,  \"Manufacturing date\": \"5Sept 2021\", \"Availability\": \"Yes\"},\n",
        "        }"
      ],
      "execution_count": 192,
      "outputs": []
    },
    {
      "cell_type": "code",
      "metadata": {
        "colab": {
          "base_uri": "https://localhost:8080/"
        },
        "id": "o-5hADGzPSRu",
        "outputId": "22f6a284-5277-4607-d6a1-1f082289f164"
      },
      "source": [
        "type(records)"
      ],
      "execution_count": 193,
      "outputs": [
        {
          "output_type": "execute_result",
          "data": {
            "text/plain": [
              "dict"
            ]
          },
          "metadata": {},
          "execution_count": 193
        }
      ]
    },
    {
      "cell_type": "code",
      "metadata": {
        "id": "LM7AzVRDvCNn"
      },
      "source": [
        "import json\n",
        "js = json.dumps(records)"
      ],
      "execution_count": 194,
      "outputs": []
    },
    {
      "cell_type": "code",
      "metadata": {
        "colab": {
          "base_uri": "https://localhost:8080/"
        },
        "id": "sNsRHcxmPfvX",
        "outputId": "d8495832-4eed-4bae-92e1-2d416413d9b0"
      },
      "source": [
        "type(js)"
      ],
      "execution_count": 195,
      "outputs": [
        {
          "output_type": "execute_result",
          "data": {
            "text/plain": [
              "str"
            ]
          },
          "metadata": {},
          "execution_count": 195
        }
      ]
    },
    {
      "cell_type": "markdown",
      "metadata": {
        "id": "X_EWn9I2AFhK"
      },
      "source": [
        "**READING RECORDS**"
      ]
    },
    {
      "cell_type": "code",
      "metadata": {
        "id": "qCazSpOx_HeQ"
      },
      "source": [
        "file = open(\"records.json\",\"r\")\n",
        "txt = file.read()\n",
        "file.close()\n",
        "\n",
        "records = json.loads(txt)"
      ],
      "execution_count": 204,
      "outputs": []
    },
    {
      "cell_type": "code",
      "metadata": {
        "id": "zM8RVbHegvfG"
      },
      "source": [
        "print(\"*******************MENU*******************\")\n",
        "print(\"product_id    product_name\",end=\"\\n\\n\")\n",
        "for i in records.keys():\n",
        "    print(i,\"        \",records[i][\"Name\"])"
      ],
      "execution_count": null,
      "outputs": []
    },
    {
      "cell_type": "markdown",
      "metadata": {
        "id": "mi-tBFXgCJmi"
      },
      "source": [
        "# **PURCHASING THE PRODUCT** "
      ]
    },
    {
      "cell_type": "markdown",
      "metadata": {
        "id": "a3hpm99sB9Op"
      },
      "source": [
        "**GETTING INPUT FROM USERS**"
      ]
    },
    {
      "cell_type": "code",
      "metadata": {
        "id": "3YjjM01p-iFK"
      },
      "source": [
        "print(\"         Welcome to the one stop shop for all your daily needs        \")\n",
        "\n",
        "ui_prod = str(input(\"Enter the product Id: \"))\n",
        "ui_quan = int(input(\"Enter the quantity of the Product: \"))\n",
        "name = str(input(\"Enter your name: \"))\n",
        "phone_no = int(input(\"Enter your registered phone number: \"))\n",
        "\n",
        "\n",
        "# CHECKING AVAILABILITY AND GENERATING BILLS:\n",
        "\n",
        "if ui_prod in records.keys() and ui_quan <= records[ui_prod][\"quantity\"] :\n",
        "  print(\"Generating your bill\")\n",
        "  print(\"___________________________________________________\")\n",
        "  print(\"******************Bill Named For*******************\")\n",
        "  print(\"                Customer name: \" , name)\n",
        "  print(\"                Registered no:\" , phone_no)\n",
        "  print(\"                Product ID:\" , ui_prod)\n",
        "  print(\"                Product purchased:\" , records[ui_prod][\"Name\"])\n",
        "  print(\"                Quantity Purchased:\" , ui_quan)\n",
        "  print(\"                Price:\" , records[ui_prod][\"price\"])\n",
        "  print(\"_____________________________________________________\")\n",
        "  \n",
        "  print(\"      Billing amount:\" , ui_quan*records[ui_prod][\"price\"])\n",
        "  from datetime import date\n",
        "  today = date.today()\n",
        "  print(\"Today's date:\", today)\n",
        "\n",
        "  print(\"THANK YOU FOR VISITING OUR STORE , HAVE A GOOD DAY Mr/Mrs.\", name)\n",
        "\n",
        "  records[ui_prod][\"quantity\"] = records[ui_prod][\"quantity\"] - ui_quan\n",
        "\n",
        "else:\n",
        "  print(\"***********************************************************\")\n",
        "  print(\"Invalid product id or quantity entered , Please check again\")\n",
        "  print(\"***********************************************************\")\n",
        "\n"
      ],
      "execution_count": null,
      "outputs": []
    },
    {
      "cell_type": "markdown",
      "metadata": {
        "id": "72yEIZcPHXKM"
      },
      "source": [
        "**UPDATE INVENTORY AFTER PURCHASE\\**"
      ]
    },
    {
      "cell_type": "code",
      "metadata": {
        "id": "sM5Dw16rwWfZ"
      },
      "source": [
        "js = json.dumps(records)\n",
        "\n",
        "file = open(\"records.json\",\"w\")\n",
        "file.write(js)\n",
        "file.close()"
      ],
      "execution_count": 304,
      "outputs": []
    },
    {
      "cell_type": "markdown",
      "metadata": {
        "id": "5d32D1hJv897"
      },
      "source": [
        "**SALES JSON**"
      ]
    },
    {
      "cell_type": "code",
      "metadata": {
        "id": "2wEYrJTVsEHp"
      },
      "source": [
        "{\"Product\":  ui_prod , \"Quantity\" : ui_quan , \"Amount\" : records[ui_prod][\"price\"]*ui_quan}"
      ],
      "execution_count": null,
      "outputs": []
    },
    {
      "cell_type": "code",
      "metadata": {
        "id": "Wec6fjAGkrmu"
      },
      "source": [
        "sales = {1 : {\"Product\":  ui_prod , \"Quantity\" : ui_quan , \"Amount\" : records[ui_prod][\"price\"]*ui_quan}}"
      ],
      "execution_count": 310,
      "outputs": []
    },
    {
      "cell_type": "code",
      "metadata": {
        "id": "N0JZ7kwo-bis"
      },
      "source": [
        "sales[len(sales)+1] = {\"Product\":  ui_prod , \"Quantity\" : ui_quan , \"Amount\" : records[ui_prod][\"price\"]*ui_quan}"
      ],
      "execution_count": 313,
      "outputs": []
    },
    {
      "cell_type": "code",
      "metadata": {
        "id": "-OHwwYFPnKTQ"
      },
      "source": [
        "sale = json.dumps(sales)"
      ],
      "execution_count": 314,
      "outputs": []
    },
    {
      "cell_type": "code",
      "metadata": {
        "id": "hHczM0-wxKHZ"
      },
      "source": [
        "file = open(\"sales.json\",\"w\")\n",
        "txt = file.write(sale)\n",
        "file.close()"
      ],
      "execution_count": 312,
      "outputs": []
    },
    {
      "cell_type": "code",
      "metadata": {
        "id": "TlLAWdjI-oep"
      },
      "source": [
        "sales"
      ],
      "execution_count": null,
      "outputs": []
    }
  ]
}