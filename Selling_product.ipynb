{
  "nbformat": 4,
  "nbformat_minor": 0,
  "metadata": {
    "colab": {
      "name": "Adding product to inventory.ipynb",
      "provenance": [],
      "collapsed_sections": []
    },
    "kernelspec": {
      "name": "python3",
      "display_name": "Python 3"
    },
    "language_info": {
      "name": "python"
    }
  },
  "cells": [
    {
      "cell_type": "markdown",
      "metadata": {
        "id": "KSVlV5Sc0IMa"
      },
      "source": [
        "# **Adding new items to inventory**"
      ]
    },
    {
      "cell_type": "markdown",
      "metadata": {
        "id": "BuCGTpqu0aL0"
      },
      "source": [
        "**CHECKING EXISTING STOCKS**"
      ]
    },
    {
      "cell_type": "code",
      "metadata": {
        "id": "1AeuywuH0DXP"
      },
      "source": [
        "records={\"1001\": {\"Name\": \"Shirts\",        \"price\": 2000,  \"quantity\": 10,  \"Manufacturing date\": \"5Sept 2021\", \"Availability\": \"Yes\"},\n",
        "         \"1002\": {\"Name\": \"Toy car\",       \"price\": 4500,  \"quantity\": 100, \"Manufacturing date\": \"5Sept 2021\", \"Availability\": \"Yes\"},\n",
        "         \"1003\": {\"Name\": \"Registers\",     \"price\": 100,   \"quantity\": 50,  \"Manufacturing date\": \"5Sept 2021\", \"Availability\": \"Yes\"},\n",
        "         \"1004\": {\"Name\": \"Bat\",           \"price\": 4540,  \"quantity\": 48,  \"Manufacturing date\": \"5Sept 2021\", \"Availability\": \"Yes\"},\n",
        "         \"1005\": {\"Name\": \"Tooth brush\",   \"price\": 20,    \"quantity\": 50,  \"Manufacturing date\": \"4 Sept 2021\", \"Availability\": \"Yes\"},\n",
        "         \"1006\": {\"Name\": \"Chess board\",   \"price\": 200,   \"quantity\": 60,  \"Manufacturing date\": \"4 Sept 2021\", \"Availability\": \"Yes\"},\n",
        "         \"1007\": {\"Name\": \"Carrom board\",  \"price\": 250,   \"quantity\": 80,  \"Manufacturing date\": \"4 Sept 2021\", \"Availability\": \"Yes\"},\n",
        "         \"1008\": {\"Name\": \"Bottles\",       \"price\": 200,   \"quantity\": 20,  \"Manufacturing date\": \"4 Sept 2021\", \"Availability\": \"Yes\"},\n",
        "         \"1009\": {\"Name\": \"Cup set\",       \"price\": 500,   \"quantity\": 80,  \"Manufacturing date\": \"4 Sept 2021\", \"Availability\": \"Yes\"},\n",
        "         \"1010\": {\"Name\": \"Cushion covers\",\"price\": 200,   \"quantity\": 60,  \"Manufacturing date\": \"4 Sept 2021\", \"Availability\": \"Yes\"},\n",
        "         \"1011\": {\"Name\": \"Bed sheet\",     \"price\": 200,   \"quantity\": 880,  \"Manufacturing date\":\"5Sept 2021\", \"Availability\": \"Yes\"},\n",
        "         \"1012\": {\"Name\": \"Curtains\",      \"price\": 500,   \"quantity\": 18,  \"Manufacturing date\": \"5 Sept 2021\", \"Availability\": \"Yes\"},\n",
        "         \"1013\": {\"Name\": \"Pen\",           \"price\": 20,    \"quantity\": 86,  \"Manufacturing date\": \"5 Sept 2021\", \"Availability\": \"Yes\"},\n",
        "         \"1014\": {\"Name\": \"Pencil box\",    \"price\": 20,    \"quantity\": 51,  \"Manufacturing date\": \"5 Sept 2021\", \"Availability\": \"Yes\"},\n",
        "         \"1015\": {\"Name\": \"Chair\",         \"price\": 2000,  \"quantity\": 51,  \"Manufacturing date\": \"5 Sept 2021\", \"Availability\": \"Yes\"},\n",
        "         \"1016\": {\"Name\": \"Lehnga\",        \"price\": 10000, \"quantity\": 200,  \"Manufacturing date\":\"6 Sept 2021\", \"Availability\": \"Yes\"},\n",
        "         \"1017\": {\"Name\": \"Beauty products\",\"price\": 200,  \"quantity\": 500,  \"Manufacturing date\":\"6 Sept 2021\", \"Availability\": \"Yes\"},\n",
        "         \"1018\": {\"Name\": \"Face wash\",     \"price\": 100,   \"quantity\": 88,  \"Manufacturing date\": \"6 Sept 2021\", \"Availability\": \"Yes\"},\n",
        "         \"1019\": {\"Name\": \"Skin care\",     \"price\": 200,   \"quantity\": 80,  \"Manufacturing date\": \"6 Sept 2021\", \"Availability\": \"Yes\"},\n",
        "         \"1020\": {\"Name\": \"Hair oil\",      \"price\": 150,   \"quantity\": 90,  \"Manufacturing date\": \"5 Sept 2021\", \"Availability\": \"Yes\"},\n",
        "         \"1021\": {\"Name\": \"Tooth paste\",   \"price\": 20,    \"quantity\": 70,  \"Manufacturing date\": \"5 Sept 2021\", \"Availability\": \"Yes\"},\n",
        "         \"1022\": {\"Name\": \"Cheese\",        \"price\": 20,    \"quantity\": 80,  \"Manufacturing date\": \"5 Sept 2021\", \"Availability\": \"Yes\"},\n",
        "         \"1023\": {\"Name\": \"Butter\",        \"price\": 20,    \"quantity\": 110,  \"Manufacturing date\": \"5Sept 2021\", \"Availability\": \"Yes\"},\n",
        "         \"1024\": {\"Name\": \"Watches\",       \"price\": 200,   \"quantity\": 100,  \"Manufacturing date\": \"5Sept 2021\", \"Availability\": \"Yes\"},\n",
        "         \"1025\": {\"Name\": \"Purses\",        \"price\": 200,   \"quantity\": 105,  \"Manufacturing date\": \"5Sept 2021\", \"Availability\": \"Yes\"},\n",
        "         \"1026\": {\"Name\": \"pencil\",        \"price\": 20,    \"quantity\": 10,  \"Manufacturing date\": \"6 Sept 2021\", \"Availability\": \"Yes\"},\n",
        "         \"1027\": {\"Name\": \"Honey\",         \"price\": 200,   \"quantity\": 100,  \"Manufacturing date\": \"6 Sept 2021\", \"Availability\": \"Yes\"},\n",
        "         \"1028\": {\"Name\": \"Vinegar\",       \"price\": 200,   \"quantity\": 50,  \"Manufacturing date\": \"6 Sept 2021\", \"Availability\": \"Yes\"},\n",
        "         \"1029\": {\"Name\": \"Soya sauss\",    \"price\": 200,   \"quantity\": 90,  \"Manufacturing date\": \"5 Sept 2021\", \"Availability\": \"Yes\"},\n",
        "         \"1030\": {\"Name\": \"ketchup\",       \"price\": 150,   \"quantity\": 120,  \"Manufacturing date\": \"5 Sept 2021\", \"Availability\": \"Yes\"},\n",
        "         \"1031\": {\"Name\": \"Jwelery\",       \"price\": 2000,  \"quantity\": 115,  \"Manufacturing date\": \"5 Sept 2021\", \"Availability\": \"Yes\"},\n",
        "         \"1032\": {\"Name\": \"Sweaters\",      \"price\": 2050,  \"quantity\": 51,  \"Manufacturing date\": \"5Sept 2021\", \"Availability\": \"Yes\"},\n",
        "         \"1033\": {\"Name\": \"Jeans\",         \"price\": 2000,  \"quantity\": 51,  \"Manufacturing date\": \"5Sept 2021\", \"Availability\": \"Yes\"},\n",
        "         \"1034\": {\"Name\": \"Formal wear\",   \"price\": 1500,  \"quantity\": 96,  \"Manufacturing date\": \"5Sept 2021\", \"Availability\": \"Yes\"},\n",
        "         \"1035\": {\"Name\": \"Art works\",     \"price\": 2000,  \"quantity\": 100,  \"Manufacturing date\": \"5Sept 2021\", \"Availability\": \"Yes\"},\n",
        "         \"1036\": {\"Name\": \"Sanitizers\",    \"price\": 200,   \"quantity\": 105,  \"Manufacturing date\": \"5Sept 2021\", \"Availability\": \"Yes\"},\n",
        "         \"1037\": {\"Name\": \"Gloves\",        \"price\": 50,    \"quantity\": 106,  \"Manufacturing date\": \"5Sept 2021\", \"Availability\": \"Yes\"},\n",
        "         \"1038\": {\"Name\": \"Disinfector\",   \"price\": 210,   \"quantity\": 1516,  \"Manufacturing date\": \"5Sept 2021\", \"Availability\": \"Yes\"},\n",
        "         \"1039\": {\"Name\": \"Lunch boxes\",   \"price\": 250,   \"quantity\": 105,  \"Manufacturing date\": \"5Sept 2021\", \"Availability\": \"Yes\"},\n",
        "         \"1040\": {\"Name\": \"Trousers\",      \"price\": 200,   \"quantity\": 1055,  \"Manufacturing date\": \"5Sept 2021\", \"Availability\": \"Yes\"},\n",
        "        }"
      ],
      "execution_count": 3,
      "outputs": []
    },
    {
      "cell_type": "code",
      "metadata": {
        "id": "jxOPsNPy0YEP"
      },
      "source": [
        "import json\n",
        "fd = open(\"records.json\" , 'r')\n",
        "txt = fd.read()\n",
        "fd.close()\n",
        "\n",
        "records = json.loads(txt)"
      ],
      "execution_count": 4,
      "outputs": []
    },
    {
      "cell_type": "markdown",
      "metadata": {
        "id": "D77kemk11lK7"
      },
      "source": [
        "**TAKING INPUTS FOR ADDING NEW ITEMS TO THE INVENTORY**"
      ]
    },
    {
      "cell_type": "code",
      "metadata": {
        "id": "IF1Vkh1U1IHc",
        "colab": {
          "base_uri": "https://localhost:8080/"
        },
        "outputId": "4e872629-8454-4826-8de1-2f7df9a83fba"
      },
      "source": [
        "ui_prod = input(\"Enter product ID: \")\n",
        "Name = input(\"Enter the name of the product: \")\n",
        "price = int(input(\"Enter the price of product: \"))\n",
        "quantity = int(input(\"Enter the no of product: \"))\n",
        "Manufacturing_date = input(\"Enter date: \")\n",
        "Availability = input(\"Enter yes or no: \")\n",
        "\n",
        "records[ui_prod] = {\"Name\" : \"Name\" , \"price\" : price , \"quantity\" : quantity , \"Manufacturing date\" : Manufacturing_date ,  \"Availability\" : Availability}\n",
        "\n",
        "js = json.dumps(records)\n",
        "\n",
        "fd = open(\"records.json\" , 'w')\n",
        "fd.write(js)\n",
        "fd.close()"
      ],
      "execution_count": 5,
      "outputs": [
        {
          "name": "stdout",
          "output_type": "stream",
          "text": [
            "Enter product ID: 1041\n",
            "Enter the name of the product: pendrive\n",
            "Enter the price of product: 250\n",
            "Enter the no of product: 25\n",
            "Enter date: 5 Sept 2021\n",
            "Enter yes or no: yes\n"
          ]
        }
      ]
    },
    {
      "cell_type": "markdown",
      "metadata": {
        "id": "oAktPrYXn0K5"
      },
      "source": [
        "**UPDATED INVENTORY**"
      ]
    },
    {
      "cell_type": "code",
      "metadata": {
        "colab": {
          "base_uri": "https://localhost:8080/"
        },
        "id": "iyEcoduOnt4Q",
        "outputId": "98896ae6-965f-49b6-ce6e-9b689f958a09"
      },
      "source": [
        "# UPDATED INVENTORY HAS NOW 1041 RECORDS INSTEAD OF 1040 WHICH WERE THERE INITIALLY\n",
        "\n",
        "records\n"
      ],
      "execution_count": 7,
      "outputs": [
        {
          "output_type": "execute_result",
          "data": {
            "text/plain": [
              "{'1001': {'Availability': 'Yes',\n",
              "  'Manufacturing date': '5Sept 2021',\n",
              "  'Name': 'Shirts',\n",
              "  'price': 2000,\n",
              "  'quantity': 10},\n",
              " '1002': {'Availability': 'Yes',\n",
              "  'Manufacturing date': '5Sept 2021',\n",
              "  'Name': 'Toy car',\n",
              "  'price': 4500,\n",
              "  'quantity': 93},\n",
              " '1003': {'Availability': 'Yes',\n",
              "  'Manufacturing date': '5Sept 2021',\n",
              "  'Name': 'Registers',\n",
              "  'price': 100,\n",
              "  'quantity': 50},\n",
              " '1004': {'Availability': 'Yes',\n",
              "  'Manufacturing date': '5Sept 2021',\n",
              "  'Name': 'Bat',\n",
              "  'price': 4540,\n",
              "  'quantity': 48},\n",
              " '1005': {'Availability': 'Yes',\n",
              "  'Manufacturing date': '4 Sept 2021',\n",
              "  'Name': 'Tooth brush',\n",
              "  'price': 20,\n",
              "  'quantity': 48},\n",
              " '1006': {'Availability': 'Yes',\n",
              "  'Manufacturing date': '4 Sept 2021',\n",
              "  'Name': 'Chess board',\n",
              "  'price': 200,\n",
              "  'quantity': 60},\n",
              " '1007': {'Availability': 'Yes',\n",
              "  'Manufacturing date': '4 Sept 2021',\n",
              "  'Name': 'Carrom board',\n",
              "  'price': 250,\n",
              "  'quantity': 80},\n",
              " '1008': {'Availability': 'Yes',\n",
              "  'Manufacturing date': '4 Sept 2021',\n",
              "  'Name': 'Bottles',\n",
              "  'price': 200,\n",
              "  'quantity': 20},\n",
              " '1009': {'Availability': 'Yes',\n",
              "  'Manufacturing date': '4 Sept 2021',\n",
              "  'Name': 'Cup set',\n",
              "  'price': 500,\n",
              "  'quantity': 80},\n",
              " '1010': {'Availability': 'Yes',\n",
              "  'Manufacturing date': '4 Sept 2021',\n",
              "  'Name': 'Cushion covers',\n",
              "  'price': 200,\n",
              "  'quantity': 60},\n",
              " '1011': {'Availability': 'Yes',\n",
              "  'Manufacturing date': '5Sept 2021',\n",
              "  'Name': 'Bed sheet',\n",
              "  'price': 200,\n",
              "  'quantity': 880},\n",
              " '1012': {'Availability': 'Yes',\n",
              "  'Manufacturing date': '5 Sept 2021',\n",
              "  'Name': 'Curtains',\n",
              "  'price': 500,\n",
              "  'quantity': 18},\n",
              " '1013': {'Availability': 'Yes',\n",
              "  'Manufacturing date': '5 Sept 2021',\n",
              "  'Name': 'Pen',\n",
              "  'price': 20,\n",
              "  'quantity': 86},\n",
              " '1014': {'Availability': 'Yes',\n",
              "  'Manufacturing date': '5 Sept 2021',\n",
              "  'Name': 'Pencil box',\n",
              "  'price': 20,\n",
              "  'quantity': 51},\n",
              " '1015': {'Availability': 'Yes',\n",
              "  'Manufacturing date': '5 Sept 2021',\n",
              "  'Name': 'Chair',\n",
              "  'price': 2000,\n",
              "  'quantity': 51},\n",
              " '1016': {'Availability': 'Yes',\n",
              "  'Manufacturing date': '6 Sept 2021',\n",
              "  'Name': 'Lehnga',\n",
              "  'price': 10000,\n",
              "  'quantity': 200},\n",
              " '1017': {'Availability': 'Yes',\n",
              "  'Manufacturing date': '6 Sept 2021',\n",
              "  'Name': 'Beauty products',\n",
              "  'price': 200,\n",
              "  'quantity': 500},\n",
              " '1018': {'Availability': 'Yes',\n",
              "  'Manufacturing date': '6 Sept 2021',\n",
              "  'Name': 'Face wash',\n",
              "  'price': 100,\n",
              "  'quantity': 88},\n",
              " '1019': {'Availability': 'Yes',\n",
              "  'Manufacturing date': '6 Sept 2021',\n",
              "  'Name': 'Skin care',\n",
              "  'price': 200,\n",
              "  'quantity': 80},\n",
              " '1020': {'Availability': 'Yes',\n",
              "  'Manufacturing date': '5 Sept 2021',\n",
              "  'Name': 'Hair oil',\n",
              "  'price': 150,\n",
              "  'quantity': 86},\n",
              " '1021': {'Availability': 'Yes',\n",
              "  'Manufacturing date': '5 Sept 2021',\n",
              "  'Name': 'Tooth paste',\n",
              "  'price': 20,\n",
              "  'quantity': 70},\n",
              " '1022': {'Availability': 'Yes',\n",
              "  'Manufacturing date': '5 Sept 2021',\n",
              "  'Name': 'Cheese',\n",
              "  'price': 20,\n",
              "  'quantity': 75},\n",
              " '1023': {'Availability': 'Yes',\n",
              "  'Manufacturing date': '5Sept 2021',\n",
              "  'Name': 'Butter',\n",
              "  'price': 20,\n",
              "  'quantity': 110},\n",
              " '1024': {'Availability': 'Yes',\n",
              "  'Manufacturing date': '5Sept 2021',\n",
              "  'Name': 'Watches',\n",
              "  'price': 200,\n",
              "  'quantity': 97},\n",
              " '1025': {'Availability': 'Yes',\n",
              "  'Manufacturing date': '5Sept 2021',\n",
              "  'Name': 'Purses',\n",
              "  'price': 200,\n",
              "  'quantity': 105},\n",
              " '1026': {'Availability': 'Yes',\n",
              "  'Manufacturing date': '6 Sept 2021',\n",
              "  'Name': 'pencil',\n",
              "  'price': 20,\n",
              "  'quantity': 10},\n",
              " '1027': {'Availability': 'Yes',\n",
              "  'Manufacturing date': '6 Sept 2021',\n",
              "  'Name': 'Honey',\n",
              "  'price': 200,\n",
              "  'quantity': 100},\n",
              " '1028': {'Availability': 'Yes',\n",
              "  'Manufacturing date': '6 Sept 2021',\n",
              "  'Name': 'Vinegar',\n",
              "  'price': 200,\n",
              "  'quantity': 50},\n",
              " '1029': {'Availability': 'Yes',\n",
              "  'Manufacturing date': '5 Sept 2021',\n",
              "  'Name': 'Soya sauss',\n",
              "  'price': 200,\n",
              "  'quantity': 90},\n",
              " '1030': {'Availability': 'Yes',\n",
              "  'Manufacturing date': '5 Sept 2021',\n",
              "  'Name': 'ketchup',\n",
              "  'price': 150,\n",
              "  'quantity': 120},\n",
              " '1031': {'Availability': 'Yes',\n",
              "  'Manufacturing date': '5 Sept 2021',\n",
              "  'Name': 'Jwelery',\n",
              "  'price': 2000,\n",
              "  'quantity': 115},\n",
              " '1032': {'Availability': 'Yes',\n",
              "  'Manufacturing date': '5Sept 2021',\n",
              "  'Name': 'Sweaters',\n",
              "  'price': 2050,\n",
              "  'quantity': 51},\n",
              " '1033': {'Availability': 'Yes',\n",
              "  'Manufacturing date': '5Sept 2021',\n",
              "  'Name': 'Jeans',\n",
              "  'price': 2000,\n",
              "  'quantity': 46},\n",
              " '1034': {'Availability': 'Yes',\n",
              "  'Manufacturing date': '5Sept 2021',\n",
              "  'Name': 'Formal wear',\n",
              "  'price': 1500,\n",
              "  'quantity': 96},\n",
              " '1035': {'Availability': 'Yes',\n",
              "  'Manufacturing date': '5Sept 2021',\n",
              "  'Name': 'Art works',\n",
              "  'price': 2000,\n",
              "  'quantity': 100},\n",
              " '1036': {'Availability': 'Yes',\n",
              "  'Manufacturing date': '5Sept 2021',\n",
              "  'Name': 'Sanitizers',\n",
              "  'price': 200,\n",
              "  'quantity': 105},\n",
              " '1037': {'Availability': 'Yes',\n",
              "  'Manufacturing date': '5Sept 2021',\n",
              "  'Name': 'Gloves',\n",
              "  'price': 50,\n",
              "  'quantity': 101},\n",
              " '1038': {'Availability': 'Yes',\n",
              "  'Manufacturing date': '5Sept 2021',\n",
              "  'Name': 'Disinfector',\n",
              "  'price': 210,\n",
              "  'quantity': 1516},\n",
              " '1039': {'Availability': 'Yes',\n",
              "  'Manufacturing date': '5Sept 2021',\n",
              "  'Name': 'Lunch boxes',\n",
              "  'price': 250,\n",
              "  'quantity': 105},\n",
              " '1040': {'Availability': 'Yes',\n",
              "  'Manufacturing date': '5Sept 2021',\n",
              "  'Name': 'Trousers',\n",
              "  'price': 200,\n",
              "  'quantity': 1055},\n",
              " '1041': {'Availability': 'yes',\n",
              "  'Manufacturing date': '5 Sept 2021',\n",
              "  'Name': 'Name',\n",
              "  'price': 250,\n",
              "  'quantity': 25}}"
            ]
          },
          "metadata": {},
          "execution_count": 7
        }
      ]
    }
  ]
}