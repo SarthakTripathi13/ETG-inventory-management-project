{
  "nbformat": 4,
  "nbformat_minor": 0,
  "metadata": {
    "colab": {
      "name": "Adding product to inventory.ipynb",
      "provenance": []
    },
    "kernelspec": {
      "name": "python3",
      "display_name": "Python 3"
    },
    "language_info": {
      "name": "python"
    }
  },
  "cells": [
    {
      "cell_type": "markdown",
      "metadata": {
        "id": "KSVlV5Sc0IMa"
      },
      "source": [
        "# **Adding new items to inventory**"
      ]
    },
    {
      "cell_type": "markdown",
      "metadata": {
        "id": "BuCGTpqu0aL0"
      },
      "source": [
        "**CHECKING EXISTING STOCKS**"
      ]
    },
    {
      "cell_type": "code",
      "metadata": {
        "id": "1AeuywuH0DXP"
      },
      "source": [
        "records={\"1001\": {\"Name\": \"Shirts\",        \"price\": 2000,  \"quantity\": 10,  \"Manufacturing date\": \"5Sept 2021\", \"Availability\": \"Yes\"},\n",
        "         \"1002\": {\"Name\": \"Toy car\",       \"price\": 4500,  \"quantity\": 100, \"Manufacturing date\": \"5Sept 2021\", \"Availability\": \"Yes\"},\n",
        "         \"1003\": {\"Name\": \"Registers\",     \"price\": 100,   \"quantity\": 50,  \"Manufacturing date\": \"5Sept 2021\", \"Availability\": \"Yes\"},\n",
        "         \"1004\": {\"Name\": \"Bat\",           \"price\": 4540,  \"quantity\": 48,  \"Manufacturing date\": \"5Sept 2021\", \"Availability\": \"Yes\"},\n",
        "         \"1005\": {\"Name\": \"Tooth brush\",   \"price\": 20,    \"quantity\": 50,  \"Manufacturing date\": \"4 Sept 2021\", \"Availability\": \"Yes\"},\n",
        "         \"1006\": {\"Name\": \"Chess board\",   \"price\": 200,   \"quantity\": 60,  \"Manufacturing date\": \"4 Sept 2021\", \"Availability\": \"Yes\"},\n",
        "         \"1007\": {\"Name\": \"Carrom board\",  \"price\": 250,   \"quantity\": 80,  \"Manufacturing date\": \"4 Sept 2021\", \"Availability\": \"Yes\"},\n",
        "         \"1008\": {\"Name\": \"Bottles\",       \"price\": 200,   \"quantity\": 20,  \"Manufacturing date\": \"4 Sept 2021\", \"Availability\": \"Yes\"},\n",
        "         \"1009\": {\"Name\": \"Cup set\",       \"price\": 500,   \"quantity\": 80,  \"Manufacturing date\": \"4 Sept 2021\", \"Availability\": \"Yes\"},\n",
        "         \"1010\": {\"Name\": \"Cushion covers\",\"price\": 200,   \"quantity\": 60,  \"Manufacturing date\": \"4 Sept 2021\", \"Availability\": \"Yes\"},\n",
        "         \"1011\": {\"Name\": \"Bed sheet\",     \"price\": 200,   \"quantity\": 880,  \"Manufacturing date\":\"5Sept 2021\", \"Availability\": \"Yes\"},\n",
        "         \"1012\": {\"Name\": \"Curtains\",      \"price\": 500,   \"quantity\": 18,  \"Manufacturing date\": \"5 Sept 2021\", \"Availability\": \"Yes\"},\n",
        "         \"1013\": {\"Name\": \"Pen\",           \"price\": 20,    \"quantity\": 86,  \"Manufacturing date\": \"5 Sept 2021\", \"Availability\": \"Yes\"},\n",
        "         \"1014\": {\"Name\": \"Pencil box\",    \"price\": 20,    \"quantity\": 51,  \"Manufacturing date\": \"5 Sept 2021\", \"Availability\": \"Yes\"},\n",
        "         \"1015\": {\"Name\": \"Chair\",         \"price\": 2000,  \"quantity\": 51,  \"Manufacturing date\": \"5 Sept 2021\", \"Availability\": \"Yes\"},\n",
        "         \"1016\": {\"Name\": \"Lehnga\",        \"price\": 10000, \"quantity\": 200,  \"Manufacturing date\":\"6 Sept 2021\", \"Availability\": \"Yes\"},\n",
        "         \"1017\": {\"Name\": \"Beauty products\",\"price\": 200,  \"quantity\": 500,  \"Manufacturing date\":\"6 Sept 2021\", \"Availability\": \"Yes\"},\n",
        "         \"1018\": {\"Name\": \"Face wash\",     \"price\": 100,   \"quantity\": 88,  \"Manufacturing date\": \"6 Sept 2021\", \"Availability\": \"Yes\"},\n",
        "         \"1019\": {\"Name\": \"Skin care\",     \"price\": 200,   \"quantity\": 80,  \"Manufacturing date\": \"6 Sept 2021\", \"Availability\": \"Yes\"},\n",
        "         \"1020\": {\"Name\": \"Hair oil\",      \"price\": 150,   \"quantity\": 90,  \"Manufacturing date\": \"5 Sept 2021\", \"Availability\": \"Yes\"},\n",
        "         \"1021\": {\"Name\": \"Tooth paste\",   \"price\": 20,    \"quantity\": 70,  \"Manufacturing date\": \"5 Sept 2021\", \"Availability\": \"Yes\"},\n",
        "         \"1022\": {\"Name\": \"Cheese\",        \"price\": 20,    \"quantity\": 80,  \"Manufacturing date\": \"5 Sept 2021\", \"Availability\": \"Yes\"},\n",
        "         \"1023\": {\"Name\": \"Butter\",        \"price\": 20,    \"quantity\": 110,  \"Manufacturing date\": \"5Sept 2021\", \"Availability\": \"Yes\"},\n",
        "         \"1024\": {\"Name\": \"Watches\",       \"price\": 200,   \"quantity\": 100,  \"Manufacturing date\": \"5Sept 2021\", \"Availability\": \"Yes\"},\n",
        "         \"1025\": {\"Name\": \"Purses\",        \"price\": 200,   \"quantity\": 105,  \"Manufacturing date\": \"5Sept 2021\", \"Availability\": \"Yes\"},\n",
        "         \"1026\": {\"Name\": \"pencil\",        \"price\": 20,    \"quantity\": 10,  \"Manufacturing date\": \"6 Sept 2021\", \"Availability\": \"Yes\"},\n",
        "         \"1027\": {\"Name\": \"Honey\",         \"price\": 200,   \"quantity\": 100,  \"Manufacturing date\": \"6 Sept 2021\", \"Availability\": \"Yes\"},\n",
        "         \"1028\": {\"Name\": \"Vinegar\",       \"price\": 200,   \"quantity\": 50,  \"Manufacturing date\": \"6 Sept 2021\", \"Availability\": \"Yes\"},\n",
        "         \"1029\": {\"Name\": \"Soya sauss\",    \"price\": 200,   \"quantity\": 90,  \"Manufacturing date\": \"5 Sept 2021\", \"Availability\": \"Yes\"},\n",
        "         \"1030\": {\"Name\": \"ketchup\",       \"price\": 150,   \"quantity\": 120,  \"Manufacturing date\": \"5 Sept 2021\", \"Availability\": \"Yes\"},\n",
        "         \"1031\": {\"Name\": \"Jwelery\",       \"price\": 2000,  \"quantity\": 115,  \"Manufacturing date\": \"5 Sept 2021\", \"Availability\": \"Yes\"},\n",
        "         \"1032\": {\"Name\": \"Sweaters\",      \"price\": 2050,  \"quantity\": 51,  \"Manufacturing date\": \"5Sept 2021\", \"Availability\": \"Yes\"},\n",
        "         \"1033\": {\"Name\": \"Jeans\",         \"price\": 2000,  \"quantity\": 51,  \"Manufacturing date\": \"5Sept 2021\", \"Availability\": \"Yes\"},\n",
        "         \"1034\": {\"Name\": \"Formal wear\",   \"price\": 1500,  \"quantity\": 96,  \"Manufacturing date\": \"5Sept 2021\", \"Availability\": \"Yes\"},\n",
        "         \"1035\": {\"Name\": \"Art works\",     \"price\": 2000,  \"quantity\": 100,  \"Manufacturing date\": \"5Sept 2021\", \"Availability\": \"Yes\"},\n",
        "         \"1036\": {\"Name\": \"Sanitizers\",    \"price\": 200,   \"quantity\": 105,  \"Manufacturing date\": \"5Sept 2021\", \"Availability\": \"Yes\"},\n",
        "         \"1037\": {\"Name\": \"Gloves\",        \"price\": 50,    \"quantity\": 106,  \"Manufacturing date\": \"5Sept 2021\", \"Availability\": \"Yes\"},\n",
        "         \"1038\": {\"Name\": \"Disinfector\",   \"price\": 210,   \"quantity\": 1516,  \"Manufacturing date\": \"5Sept 2021\", \"Availability\": \"Yes\"},\n",
        "         \"1039\": {\"Name\": \"Lunch boxes\",   \"price\": 250,   \"quantity\": 105,  \"Manufacturing date\": \"5Sept 2021\", \"Availability\": \"Yes\"},\n",
        "         \"1040\": {\"Name\": \"Trousers\",      \"price\": 200,   \"quantity\": 1055,  \"Manufacturing date\": \"5Sept 2021\", \"Availability\": \"Yes\"},\n",
        "        }"
      ],
      "execution_count": 18,
      "outputs": []
    },
    {
      "cell_type": "code",
      "metadata": {
        "id": "jxOPsNPy0YEP"
      },
      "source": [
        "import json\n",
        "fd = open(\"records.json\" , 'r')\n",
        "txt = fd.read()\n",
        "fd.close()\n",
        "\n",
        "records = json.loads(txt)"
      ],
      "execution_count": 19,
      "outputs": []
    },
    {
      "cell_type": "markdown",
      "metadata": {
        "id": "D77kemk11lK7"
      },
      "source": [
        "**TAKING INPUTS**"
      ]
    },
    {
      "cell_type": "code",
      "metadata": {
        "id": "IF1Vkh1U1IHc"
      },
      "source": [
        "ui_prod = input(\"Enter product ID: \")\n",
        "Name = input(\"Enter the name of the product: \")\n",
        "price = int(input(\"Enter the price of product: \"))\n",
        "quantity = int(input(\"Enter the no of product: \"))\n",
        "Manufacturing_date = input(\"Enter date: \")\n",
        "Availability = input(\"Enter yes or no: \")\n",
        "\n",
        "records[ui_prod] = {\"Name\" : \"Name\" , \"price\" : price , \"quantity\" : quantity , \"Manufacturing date\" : Manufacturing_date ,  \"Availability\" : Availability}\n",
        "\n",
        "js = json.dumps(records)\n",
        "\n",
        "fd = open(\"records.json\" , 'w')\n",
        "fd.write(js)\n",
        "fd.close()"
      ],
      "execution_count": null,
      "outputs": []
    },
    {
      "cell_type": "code",
      "metadata": {
        "id": "zNgRrM4D526F"
      },
      "source": [
        ""
      ],
      "execution_count": null,
      "outputs": []
    }
  ]
}